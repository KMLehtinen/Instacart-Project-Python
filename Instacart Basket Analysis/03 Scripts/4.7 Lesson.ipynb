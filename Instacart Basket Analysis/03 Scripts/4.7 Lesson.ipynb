{
 "cells": [
  {
   "cell_type": "code",
   "execution_count": 2,
   "id": "cc327e7a",
   "metadata": {},
   "outputs": [],
   "source": [
    "# Import libraries\n",
    "\n",
    "import pandas as pd\n",
    "import numpy as np\n",
    "import os"
   ]
  },
  {
   "cell_type": "code",
   "execution_count": 3,
   "id": "f5e75397",
   "metadata": {},
   "outputs": [],
   "source": [
    "#path\n",
    "path=r'/Users/kristenlehtinen/Documents/Careerfoundry/Instacart Basket Analysis'"
   ]
  },
  {
   "cell_type": "code",
   "execution_count": 4,
   "id": "a1d8fec5",
   "metadata": {},
   "outputs": [],
   "source": [
    "ords_prods_merge = pd.read_csv(r'/Users/kristenlehtinen/Documents/Careerfoundry/Instacart Basket Analysis/02 Data/Prepared Data/df_merge.csv', index_col = False)"
   ]
  },
  {
   "cell_type": "code",
   "execution_count": 5,
   "id": "87cff8c0",
   "metadata": {},
   "outputs": [],
   "source": [
    "#Subset of first one million rows\n",
    "df = ords_prods_merge[:1000000]"
   ]
  },
  {
   "cell_type": "code",
   "execution_count": 6,
   "id": "a10a3e9f",
   "metadata": {},
   "outputs": [],
   "source": [
    "def price_label(row):\n",
    "\n",
    "  if row['prices'] <= 5:\n",
    "    return 'Low-range product'\n",
    "  elif (row['prices'] > 5) and (row['prices'] <= 15):\n",
    "    return 'Mid-range product'\n",
    "  elif row['prices'] > 15:\n",
    "    return 'High range'\n",
    "  else: return 'Not enough data'"
   ]
  },
  {
   "cell_type": "code",
   "execution_count": 7,
   "id": "9a528573",
   "metadata": {},
   "outputs": [
    {
     "name": "stderr",
     "output_type": "stream",
     "text": [
      "/var/folders/ct/3q0tp4n574b6w7_tt9fvsllh0000gp/T/ipykernel_47736/2848743372.py:1: SettingWithCopyWarning: \n",
      "A value is trying to be set on a copy of a slice from a DataFrame.\n",
      "Try using .loc[row_indexer,col_indexer] = value instead\n",
      "\n",
      "See the caveats in the documentation: https://pandas.pydata.org/pandas-docs/stable/user_guide/indexing.html#returning-a-view-versus-a-copy\n",
      "  df['price_range'] = df.apply(price_label, axis=1)\n"
     ]
    }
   ],
   "source": [
    "df['price_range'] = df.apply(price_label, axis=1)"
   ]
  },
  {
   "cell_type": "code",
   "execution_count": 8,
   "id": "b379d642",
   "metadata": {},
   "outputs": [
    {
     "data": {
      "text/plain": [
       "(1000000, 19)"
      ]
     },
     "execution_count": 8,
     "metadata": {},
     "output_type": "execute_result"
    }
   ],
   "source": [
    "df.shape"
   ]
  },
  {
   "cell_type": "code",
   "execution_count": 9,
   "id": "4cca45fd",
   "metadata": {},
   "outputs": [
    {
     "data": {
      "text/plain": [
       "Unnamed: 0  Unnamed: 0_x  product_id  product_name                    aisle_id  department_id  prices  Unnamed: 0_y  order_id  user_id  eval_set  order_number  orders_day_of_week  order_time_of_day  days_since_prior_order  add_to_cart_order  reordered  _merge  price_range      \n",
       "0           0             1           Chocolate Sandwich Cookies      61        19             5.8     16802         3139998   138      prior     28            6                   11                 3.0                     5                  0          both    Mid-range product    1\n",
       "666971      4487          4487        Vegetarian Organic Golden Corn  81        15             9.9     2222532       906360    14305    prior     16            0                   20                 9.0                     26                 0          both    Mid-range product    1\n",
       "666973      4487          4487        Vegetarian Organic Golden Corn  81        15             9.9     2225051       899929    14324    prior     5             0                   12                 30.0                    3                  0          both    Mid-range product    1\n",
       "666974      4487          4487        Vegetarian Organic Golden Corn  81        15             9.9     2239628       2639816   14408    prior     4             1                   17                 14.0                    8                  0          both    Mid-range product    1\n",
       "666975      4487          4487        Vegetarian Organic Golden Corn  81        15             9.9     2250992       1738516   14471    prior     14            3                   17                 2.0                     2                  0          both    Mid-range product    1\n",
       "                                                                                                                                                                                                                                                                                         ..\n",
       "333836      2228          2228        Organic Frozen Mango Chunks     116       1              4.7     899841        3079523   5801     prior     6             0                   16                 5.0                     9                  0          both    Low-range product    1\n",
       "333837      2228          2228        Organic Frozen Mango Chunks     116       1              4.7     899857        3125544   5801     prior     7             3                   14                 10.0                    15                 1          both    Low-range product    1\n",
       "333838      2228          2228        Organic Frozen Mango Chunks     116       1              4.7     899885        2923680   5801     prior     9             1                   18                 7.0                     7                  1          both    Low-range product    1\n",
       "333839      2228          2228        Organic Frozen Mango Chunks     116       1              4.7     899904        495324    5801     prior     10            1                   10                 7.0                     10                 1          both    Low-range product    1\n",
       "999999      5785          5785        Organic Reduced Fat 2% Milk     84        16             7.9     852267        3007559   5502     prior     35            3                   16                 7.0                     15                 1          both    Mid-range product    1\n",
       "Name: count, Length: 935103, dtype: int64"
      ]
     },
     "execution_count": 9,
     "metadata": {},
     "output_type": "execute_result"
    }
   ],
   "source": [
    "df.value_counts()"
   ]
  },
  {
   "cell_type": "code",
   "execution_count": 10,
   "id": "e8b15bc8",
   "metadata": {},
   "outputs": [
    {
     "data": {
      "text/plain": [
       "24.5"
      ]
     },
     "execution_count": 10,
     "metadata": {},
     "output_type": "execute_result"
    }
   ],
   "source": [
    "df['prices'].max()"
   ]
  },
  {
   "cell_type": "code",
   "execution_count": 11,
   "id": "683ce400",
   "metadata": {},
   "outputs": [
    {
     "name": "stderr",
     "output_type": "stream",
     "text": [
      "/var/folders/ct/3q0tp4n574b6w7_tt9fvsllh0000gp/T/ipykernel_47736/1169838859.py:1: SettingWithCopyWarning: \n",
      "A value is trying to be set on a copy of a slice from a DataFrame.\n",
      "Try using .loc[row_indexer,col_indexer] = value instead\n",
      "\n",
      "See the caveats in the documentation: https://pandas.pydata.org/pandas-docs/stable/user_guide/indexing.html#returning-a-view-versus-a-copy\n",
      "  df.loc[df['prices'] > 15, 'price_range_loc'] = 'High-range product'\n"
     ]
    }
   ],
   "source": [
    "df.loc[df['prices'] > 15, 'price_range_loc'] = 'High-range product'"
   ]
  },
  {
   "cell_type": "code",
   "execution_count": 12,
   "id": "81fbdcdd",
   "metadata": {},
   "outputs": [],
   "source": [
    "df.loc[(df['prices'] <= 15) & (df['prices'] > 5), 'price_range_loc'] = 'Mid-range product'"
   ]
  },
  {
   "cell_type": "code",
   "execution_count": 13,
   "id": "13d5c108",
   "metadata": {},
   "outputs": [
    {
     "ename": "NameError",
     "evalue": "name 'b' is not defined",
     "output_type": "error",
     "traceback": [
      "\u001b[0;31m---------------------------------------------------------------------------\u001b[0m",
      "\u001b[0;31mNameError\u001b[0m                                 Traceback (most recent call last)",
      "Cell \u001b[0;32mIn[13], line 1\u001b[0m\n\u001b[0;32m----> 1\u001b[0m b\n",
      "\u001b[0;31mNameError\u001b[0m: name 'b' is not defined"
     ]
    }
   ],
   "source": [
    "b"
   ]
  },
  {
   "cell_type": "code",
   "execution_count": null,
   "id": "0dde9327",
   "metadata": {},
   "outputs": [],
   "source": [
    "df['price_range_loc'].value_counts(dropna=False)"
   ]
  },
  {
   "cell_type": "code",
   "execution_count": null,
   "id": "59193008",
   "metadata": {},
   "outputs": [],
   "source": [
    "ords_prods_merge.loc[ords_prods_merge['prices'] > 15, 'price_range_loc'] = 'High-range product'"
   ]
  },
  {
   "cell_type": "code",
   "execution_count": null,
   "id": "a5cbb2df",
   "metadata": {},
   "outputs": [],
   "source": [
    "ords_prods_merge.loc[(ords_prods_merge['prices'] <= 15) & (df['prices'] > 5), 'price_range_loc'] = 'Mid-range product'"
   ]
  },
  {
   "cell_type": "code",
   "execution_count": null,
   "id": "aace7bf7",
   "metadata": {},
   "outputs": [],
   "source": [
    "ords_prods_merge.loc[ords_prods_merge['prices'] <= 5, 'price_range_loc'] = 'Low-range product'"
   ]
  },
  {
   "cell_type": "code",
   "execution_count": null,
   "id": "799e9dc7",
   "metadata": {},
   "outputs": [],
   "source": [
    "ords_prods_merge['price_range_loc'].value_counts(dropna=False)"
   ]
  },
  {
   "cell_type": "code",
   "execution_count": null,
   "id": "9e44f3f6",
   "metadata": {},
   "outputs": [],
   "source": [
    "ords_prods_merge['orders_day_of_week'].value_counts(dropna=False)"
   ]
  },
  {
   "cell_type": "code",
   "execution_count": null,
   "id": "1f98dd25",
   "metadata": {},
   "outputs": [],
   "source": [
    "result = []\n",
    "\n",
    "for value in ords_prods_merge[\"orders_day_of_week\"]:\n",
    "  if value == 0:\n",
    "    result.append(\"Busiest day\")\n",
    "  elif value == 4:\n",
    "    result.append(\"Least busy\")\n",
    "  else:\n",
    "    result.append(\"Regularly busy\")"
   ]
  },
  {
   "cell_type": "code",
   "execution_count": null,
   "id": "7a989eb4",
   "metadata": {},
   "outputs": [],
   "source": [
    "result"
   ]
  },
  {
   "cell_type": "code",
   "execution_count": null,
   "id": "18ae1507",
   "metadata": {},
   "outputs": [],
   "source": [
    "ords_prods_merge['busiest_day']=result"
   ]
  },
  {
   "cell_type": "code",
   "execution_count": null,
   "id": "b0578ef5",
   "metadata": {},
   "outputs": [],
   "source": [
    "ords_prods_merge.head()"
   ]
  },
  {
   "cell_type": "code",
   "execution_count": null,
   "id": "c7b4ff26",
   "metadata": {},
   "outputs": [],
   "source": [
    "ords_prods_merge['busiest_day'].value_counts(dropna = False)"
   ]
  },
  {
   "cell_type": "markdown",
   "id": "b6f4eac5",
   "metadata": {},
   "source": [
    "# 4.7 Task "
   ]
  },
  {
   "cell_type": "markdown",
   "id": "4fe5f1ff",
   "metadata": {},
   "source": [
    "# 2. Changing \"Busiest day\" to \"Busiest days\""
   ]
  },
  {
   "cell_type": "code",
   "execution_count": null,
   "id": "e67dc1d9",
   "metadata": {},
   "outputs": [],
   "source": [
    "result_2 = []\n",
    "\n",
    "for value in ords_prods_merge[\"orders_day_of_week\"]:\n",
    "  if value == 0 or value==1:\n",
    "    result_2.append(\"Busiest days\")\n",
    "  elif value == 4 or value==3:\n",
    "    result_2.append(\"Slowest days\")\n",
    "  else:\n",
    "    result_2.append(\"Regularly busy\")"
   ]
  },
  {
   "cell_type": "code",
   "execution_count": null,
   "id": "3c00749e",
   "metadata": {},
   "outputs": [],
   "source": [
    "# Checking head\n",
    "ords_prods_merge.head()"
   ]
  },
  {
   "cell_type": "markdown",
   "id": "218d241a",
   "metadata": {},
   "source": [
    "# 3. Values for \"Busiest days\""
   ]
  },
  {
   "cell_type": "code",
   "execution_count": null,
   "id": "ad57a8db",
   "metadata": {},
   "outputs": [],
   "source": [
    "ords_prods_merge['Busiest days']=result_2"
   ]
  },
  {
   "cell_type": "code",
   "execution_count": null,
   "id": "12b17c4a",
   "metadata": {},
   "outputs": [],
   "source": [
    "ords_prods_merge['Busiest days'].value_counts(dropna=False)"
   ]
  },
  {
   "cell_type": "markdown",
   "id": "c69a0de5",
   "metadata": {},
   "source": [
    "#### Regular busy days went down by a count of 2,906,924 and the 'Busiest days'and 'Slowest days' values went up in count. "
   ]
  },
  {
   "cell_type": "markdown",
   "id": "172620af",
   "metadata": {},
   "source": [
    "# 4. Busiest Hours of the Day"
   ]
  },
  {
   "cell_type": "code",
   "execution_count": null,
   "id": "d4519bed",
   "metadata": {},
   "outputs": [],
   "source": [
    "ords_prods_merge.columns"
   ]
  },
  {
   "cell_type": "code",
   "execution_count": null,
   "id": "d9b75d82",
   "metadata": {},
   "outputs": [],
   "source": [
    "ords_prods_merge['order_time_of_day'].value_counts(dropna=False)"
   ]
  },
  {
   "cell_type": "code",
   "execution_count": null,
   "id": "fad07662",
   "metadata": {},
   "outputs": [],
   "source": [
    "result_3 = []\n",
    "\n",
    "for value in ords_prods_merge[\"order_time_of_day\"]:\n",
    "  if value in [0,1,2,3,4,5,6,23]:\n",
    "    result_3.append(\"Fewest orders\")\n",
    "  elif value in [9,10,11,12,13,14,15,16]:\n",
    "    result_3.append(\"Most orders\")\n",
    "  else:\n",
    "    result_3.append(\"Average orders\")"
   ]
  },
  {
   "cell_type": "code",
   "execution_count": null,
   "id": "e2d9ebdb",
   "metadata": {},
   "outputs": [],
   "source": [
    "result_3"
   ]
  },
  {
   "cell_type": "code",
   "execution_count": null,
   "id": "3cbd8319",
   "metadata": {},
   "outputs": [],
   "source": [
    "# Creating new column \"busiest_hours\"\n",
    "ords_prods_merge['busiest_hours']=result_3"
   ]
  },
  {
   "cell_type": "code",
   "execution_count": null,
   "id": "2a92127e",
   "metadata": {},
   "outputs": [],
   "source": [
    "list_quantile = list(ords_prods_merge['order_time_of_day'].value_counts(dropna = False).quantile([0.25, 0.75]))"
   ]
  },
  {
   "cell_type": "code",
   "execution_count": null,
   "id": "9ef851a7",
   "metadata": {},
   "outputs": [],
   "source": [
    "dict_hour_counts = ords_prods_merge['order_time_of_day'].value_counts(dropna=False).to_dict()"
   ]
  },
  {
   "cell_type": "code",
   "execution_count": null,
   "id": "3066cf3b",
   "metadata": {},
   "outputs": [],
   "source": [
    "dict_hour_counts"
   ]
  },
  {
   "cell_type": "markdown",
   "id": "0fa27f04",
   "metadata": {},
   "source": [
    "# 5. Print value counts for \"busiest_hours\""
   ]
  },
  {
   "cell_type": "code",
   "execution_count": null,
   "id": "2254b859",
   "metadata": {},
   "outputs": [],
   "source": [
    "ords_prods_merge['busiest_hours'].value_counts(dropna=False)"
   ]
  },
  {
   "cell_type": "markdown",
   "id": "f70dedda",
   "metadata": {},
   "source": [
    "# 7. Exporting data to pkl file"
   ]
  },
  {
   "cell_type": "code",
   "execution_count": null,
   "id": "bd998321",
   "metadata": {},
   "outputs": [],
   "source": [
    "ords_prods_merge.to_csv(os.path.join(path, '02 Data', 'Prepared Data', 'ords_prods_merge.csv'))"
   ]
  },
  {
   "cell_type": "code",
   "execution_count": null,
   "id": "43d7c87f",
   "metadata": {},
   "outputs": [],
   "source": [
    "ords_prods_merge.to_pickle(os.path.join(path, '02 Data', 'Prepared Data', 'ords_prods_merge.pkl'))"
   ]
  },
  {
   "cell_type": "code",
   "execution_count": null,
   "id": "c7ebb434",
   "metadata": {},
   "outputs": [],
   "source": []
  }
 ],
 "metadata": {
  "kernelspec": {
   "display_name": "Python 3 (ipykernel)",
   "language": "python",
   "name": "python3"
  },
  "language_info": {
   "codemirror_mode": {
    "name": "ipython",
    "version": 3
   },
   "file_extension": ".py",
   "mimetype": "text/x-python",
   "name": "python",
   "nbconvert_exporter": "python",
   "pygments_lexer": "ipython3",
   "version": "3.11.5"
  }
 },
 "nbformat": 4,
 "nbformat_minor": 5
}
